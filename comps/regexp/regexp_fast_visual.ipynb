{
 "cells": [
  {
   "cell_type": "code",
   "execution_count": 34,
   "id": "a3f00207",
   "metadata": {},
   "outputs": [],
   "source": [
    "import numpy as np\n",
    "import matplotlib.pylab as plt\n",
    "import seaborn as sns"
   ]
  },
  {
   "cell_type": "code",
   "execution_count": 74,
   "id": "0fa47d44",
   "metadata": {},
   "outputs": [],
   "source": [
    "regexp = \"a+.*ge\"\n",
    "text = \"aasefecge\""
   ]
  },
  {
   "cell_type": "code",
   "execution_count": 75,
   "id": "00fffe0d",
   "metadata": {},
   "outputs": [
    {
     "data": {
      "text/plain": [
       "array([[ True, False,  True, False, False, False],\n",
       "       [ True, False,  True, False, False, False],\n",
       "       [False, False,  True, False, False, False],\n",
       "       [False, False,  True, False, False, False],\n",
       "       [False, False,  True, False, False, False],\n",
       "       [False, False,  True, False, False, False],\n",
       "       [False, False,  True, False, False, False],\n",
       "       [False, False,  True, False,  True, False],\n",
       "       [False, False, False, False, False,  True]])"
      ]
     },
     "execution_count": 75,
     "metadata": {},
     "output_type": "execute_result"
    }
   ],
   "source": [
    "def match(s, p):\n",
    "    DP = np.zeros((21, 31), dtype=bool)\n",
    "    s_len = len(s)\n",
    "    p_len = len(p)\n",
    "    DP[s_len, p_len] = True\n",
    "    for i in range(s_len, -1, -1):\n",
    "        for j in range(p_len - 1, -1, -1):\n",
    "            match = ((i < s_len) and (p[j] == '.' or p[j] == s[i]))\n",
    "            if (j+1 < p_len) and (p[j+1] == '*'):\n",
    "                DP[i, j] = DP[i, j+2] or (DP[i+1, j] and match) or (DP[i+1, j+2] and match)\n",
    "            elif (j+1 < p_len) and (p[j+1] == '+'):\n",
    "                DP[i, j] = (DP[i+1, j] and match) or (DP[i+1, j+2] and match)\n",
    "            else:\n",
    "                DP[i, j] = DP[i+1, j+1] and match;\n",
    "\n",
    "    return DP[:s_len, :p_len]\n",
    "    \n",
    "match(text, regexp)"
   ]
  },
  {
   "cell_type": "code",
   "execution_count": 76,
   "id": "2843fee8",
   "metadata": {},
   "outputs": [
    {
     "data": {
      "text/plain": [
       "<AxesSubplot:>"
      ]
     },
     "execution_count": 76,
     "metadata": {},
     "output_type": "execute_result"
    },
    {
     "data": {
      "image/png": "[encoded data removed]",
      "text/plain": [
       "<Figure size 432x288 with 2 Axes>"
      ]
     },
     "metadata": {
      "needs_background": "light"
     },
     "output_type": "display_data"
    }
   ],
   "source": [
    "sns.heatmap(match(text, regexp).astype(int), xticklabels=list(regexp), yticklabels=list(text), linewidths=0.1)"
   ]
  },
  {
   "cell_type": "code",
   "execution_count": null,
   "id": "d2a7ad8f",
   "metadata": {},
   "outputs": [],
   "source": []
  }
 ],
 "metadata": {
  "kernelspec": {
   "display_name": "Python 3",
   "language": "python",
   "name": "python3"
  },
  "language_info": {
   "codemirror_mode": {
    "name": "ipython",
    "version": 3
   },
   "file_extension": ".py",
   "mimetype": "text/x-python",
   "name": "python",
   "nbconvert_exporter": "python",
   "pygments_lexer": "ipython3",
   "version": "3.8.10"
  }
 },
 "nbformat": 4,
 "nbformat_minor": 5
}
